{
 "cells": [
  {
   "cell_type": "code",
   "execution_count": 2,
   "metadata": {},
   "outputs": [
    {
     "name": "stdout",
     "output_type": "stream",
     "text": [
      "from 2020-08-20 to 2020-12-10\n",
      "done.\n"
     ]
    }
   ],
   "source": [
    "import win32com.client\n",
    "import datetime\n",
    "\n",
    "# 期間指定\n",
    "weeks_ahead = 8\n",
    "# 期間：自\n",
    "st = datetime.date.today() - datetime.timedelta(weeks=weeks_ahead)\n",
    "# st = datetime.date(2020,7,1)\n",
    "# 期間：至\n",
    "ed = datetime.date.today() + datetime.timedelta(weeks=weeks_ahead)\n",
    "\n",
    "# Outlookの予定アクセス用のAPI\n",
    "app = win32com.client.Dispatch(\"Outlook.Application\")\n",
    "root = app.Session.DefaultStore.GetRootFolder()\n",
    "ns = app.GetNamespace(\"MAPI\")\n",
    "cal = ns.GetDefaultFolder(9)\n",
    "\n",
    "# 期間指定用のフィルタ文字列\n",
    "filterStr = '[Start]>=\"{0}\" and [Start]<\"{1}\"'.format(\n",
    "    st.strftime(\"%Y/%m/%d\"), ed.strftime(\"%Y/%m/%d\")\n",
    ")\n",
    "# ソートして定期的な予定を分解してからフィルタかける\n",
    "appointments = cal.Items\n",
    "appointments.sort(\"[Start]\")\n",
    "appointments.IncludeRecurrences = True\n",
    "restricted = appointments.Restrict(filterStr)\n",
    "print(\"from\", st, \"to\", ed)\n",
    "counter = 0\n",
    "msg = \"Exchange 2013 re-created a meeting that was missing from your calendar.\"\n",
    "# Outlook側の予定アイテムにアクセス\n",
    "events = []\n",
    "for item in restricted:\n",
    "    #for item in appointments:\n",
    "    if msg in item.body:\n",
    "        print(item.start,item.subject,item.body)\n",
    "        events.append(item)\n",
    "if len(events)>0:\n",
    "    print(\"delete\")\n",
    "    for item in events:\n",
    "        print(item.start,item.subject)\n",
    "        item.delete()\n",
    "print(\"done.\")"
   ]
  },
  {
   "cell_type": "code",
   "execution_count": null,
   "metadata": {},
   "outputs": [],
   "source": []
  }
 ],
 "metadata": {
  "kernelspec": {
   "display_name": "Python 3",
   "language": "python",
   "name": "python3"
  },
  "language_info": {
   "codemirror_mode": {
    "name": "ipython",
    "version": 3
   },
   "file_extension": ".py",
   "mimetype": "text/x-python",
   "name": "python",
   "nbconvert_exporter": "python",
   "pygments_lexer": "ipython3",
   "version": "3.7.6"
  }
 },
 "nbformat": 4,
 "nbformat_minor": 4
}

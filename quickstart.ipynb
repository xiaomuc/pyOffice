{
 "cells": [
  {
   "cell_type": "code",
   "execution_count": null,
   "metadata": {},
   "outputs": [
    {
     "name": "stdout",
     "output_type": "stream",
     "text": [
      "Please visit this URL to authorize this application: https://accounts.google.com/o/oauth2/auth?response_type=code&client_id=998821089440-ec6i1745oku8abskh6hbfjlug0qpmqu8.apps.googleusercontent.com&redirect_uri=http%3A%2F%2Flocalhost%3A49443%2F&scope=https%3A%2F%2Fwww.googleapis.com%2Fauth%2Fcalendar.readonly&state=WGTBSeBEwtnE8yXXzZgApLawD6GKUZ&access_type=offline\n"
     ]
    }
   ],
   "source": [
    "from __future__ import print_function\n",
    "import datetime\n",
    "import pickle\n",
    "import os.path\n",
    "from googleapiclient.discovery import build\n",
    "from google_auth_oauthlib.flow import InstalledAppFlow\n",
    "from google.auth.transport.requests import Request\n",
    "\n",
    "# If modifying these scopes, delete the file token.pickle.\n",
    "SCOPES = ['https://www.googleapis.com/auth/calendar.readonly']\n",
    "CREDENTIAL_FILE=\"credentials.json\"\n",
    "CALENDAR_ID =\"https://calendar.google.com/calendar/embed?src=jiro.kogi%40gmail.com&ctz=Asia%2FTokyo\"\n",
    "def main():\n",
    "    \"\"\"Shows basic usage of the Google Calendar API.\n",
    "    Prints the start and name of the next 10 events on the user's calendar.\n",
    "    \"\"\"\n",
    "    creds = None\n",
    "    # The file token.pickle stores the user's access and refresh tokens, and is\n",
    "    # created automatically when the authorization flow completes for the first\n",
    "    # time.\n",
    "    if os.path.exists('token.pickle'):\n",
    "        with open('token.pickle', 'rb') as token:\n",
    "            creds = pickle.load(token)\n",
    "    # If there are no (valid) credentials available, let the user log in.\n",
    "    if not creds or not creds.valid:\n",
    "        if creds and creds.expired and creds.refresh_token:\n",
    "            creds.refresh(Request())\n",
    "        else:\n",
    "            flow = InstalledAppFlow.from_client_secrets_file(\n",
    "                CREDENTIAL_FILE, SCOPES)\n",
    "            creds = flow.run_local_server(port=0)\n",
    "        # Save the credentials for the next run\n",
    "        with open('token.pickle', 'wb') as token:\n",
    "            pickle.dump(creds, token)\n",
    "\n",
    "    service = build('calendar', 'v3', credentials=creds)\n",
    "\n",
    "    # Call the Calendar API\n",
    "    now = datetime.datetime.utcnow().isoformat() + 'Z' # 'Z' indicates UTC time\n",
    "    print('Getting the upcoming 10 events')\n",
    "    events_result = service.events().list(calendarId='jiro.kogi@gmail.com', timeMin=now,\n",
    "                                        maxResults=10, singleEvents=True,\n",
    "                                        orderBy='startTime').execute()\n",
    "    events = events_result.get('items', [])\n",
    "\n",
    "    if not events:\n",
    "        print('No upcoming events found.')\n",
    "    for event in events:\n",
    "        start = event['start'].get('dateTime', event['start'].get('date'))\n",
    "        print(start, event['summary'])\n",
    "\n",
    "\n",
    "if __name__ == '__main__':\n",
    "    main()"
   ]
  },
  {
   "cell_type": "code",
   "execution_count": 2,
   "metadata": {},
   "outputs": [
    {
     "ename": "ModuleNotFoundError",
     "evalue": "No module named 'oauth2client'",
     "output_type": "error",
     "traceback": [
      "\u001b[1;31m---------------------------------------------------------------------------\u001b[0m",
      "\u001b[1;31mModuleNotFoundError\u001b[0m                       Traceback (most recent call last)",
      "\u001b[1;32m<ipython-input-2-3840f3914bf0>\u001b[0m in \u001b[0;36m<module>\u001b[1;34m\u001b[0m\n\u001b[0;32m      1\u001b[0m \u001b[1;32mimport\u001b[0m \u001b[0mhttplib2\u001b[0m\u001b[1;33m\u001b[0m\u001b[1;33m\u001b[0m\u001b[0m\n\u001b[0;32m      2\u001b[0m \u001b[1;32mfrom\u001b[0m \u001b[0mapiclient\u001b[0m \u001b[1;32mimport\u001b[0m \u001b[0mdiscovery\u001b[0m\u001b[1;33m\u001b[0m\u001b[1;33m\u001b[0m\u001b[0m\n\u001b[1;32m----> 3\u001b[1;33m \u001b[1;32mfrom\u001b[0m \u001b[0moauth2client\u001b[0m\u001b[1;33m.\u001b[0m\u001b[0mservice_account\u001b[0m \u001b[1;32mimport\u001b[0m \u001b[0mServiceAccountCredentials\u001b[0m\u001b[1;33m\u001b[0m\u001b[1;33m\u001b[0m\u001b[0m\n\u001b[0m\u001b[0;32m      4\u001b[0m \u001b[1;32mimport\u001b[0m \u001b[0mlogging\u001b[0m\u001b[1;33m\u001b[0m\u001b[1;33m\u001b[0m\u001b[0m\n\u001b[0;32m      5\u001b[0m \u001b[1;32mimport\u001b[0m \u001b[0mos\u001b[0m\u001b[1;33m\u001b[0m\u001b[1;33m\u001b[0m\u001b[0m\n",
      "\u001b[1;31mModuleNotFoundError\u001b[0m: No module named 'oauth2client'"
     ]
    }
   ],
   "source": [
    "import httplib2\n",
    "from apiclient import discovery\n",
    "from oauth2client.service_account import ServiceAccountCredentials\n",
    "import logging\n",
    "import os\n",
    "import sys\n",
    "import traceback\n",
    " \n",
    "logger = logging.getLogger()\n",
    "logger.setLevel(logging.INFO)\n",
    " \n",
    "class GoogleCalendar(object):\n",
    " \n",
    "    def __init__(self):\n",
    "        self.service_account_id = \"calendar2-account@calendar2-1603158796448.iam.gserviceaccount.com\"\n",
    "        #s.environ['GOOGLE_SERVICE_ACCOUNT_ID']\n",
    " \n",
    "    def get_credentials(self):\n",
    "        scopes = 'https://www.googleapis.com/auth/calendar'\n",
    " \n",
    "        credentials = ServiceAccountCredentials.from_json_keyfile_name(\n",
    "            'calendar2-1603158796448-359748082a85.json',\n",
    "            scopes=scopes\n",
    "        )\n",
    " \n",
    "        return credentials\n",
    " \n",
    " \n",
    "    def get_schedule(self,calendar_id, time_min, time_max):\n",
    "        try:\n",
    "            credentials = self.get_credentials()\n",
    "            http = credentials.authorize(httplib2.Http())\n",
    "            service = discovery.build(\n",
    "                'calendar',\n",
    "                'v3',\n",
    "                http=http\n",
    "            )\n",
    " \n",
    "            events = service.events().list(\n",
    "                calendarId=calendar_id,\n",
    "                timeMin=time_min,\n",
    "                timeMax=time_max,\n",
    "                singleEvents=True\n",
    "            ).execute()\n",
    " \n",
    "            items = events['items']\n",
    " \n",
    "            return items\n",
    " \n",
    "        except Exception as e:\n",
    "            logger.error(traceback.format_exc(sys.exc_info()[2]))\n",
    " "
   ]
  },
  {
   "cell_type": "code",
   "execution_count": 12,
   "metadata": {},
   "outputs": [
    {
     "name": "stdout",
     "output_type": "stream",
     "text": [
      "<re.Match object; span=(23, 30), match='関西エアポ－ト'>\n"
     ]
    }
   ],
   "source": [
    "import re\n",
    "\n",
    "s =\"【臨時重案審】次期バックオフィスシステム構築（関西エアポ－ト株式会社）の開催について（日程のお知らせ）\"\n",
    "res = re.search(\"関西エアポ.ト\",s)\n",
    "if res !=None:\n",
    "    print(res)\n",
    "else:\n",
    "    print(\"not found\")"
   ]
  },
  {
   "cell_type": "code",
   "execution_count": null,
   "metadata": {},
   "outputs": [],
   "source": []
  }
 ],
 "metadata": {
  "kernelspec": {
   "display_name": "Python 3",
   "language": "python",
   "name": "python3"
  },
  "language_info": {
   "codemirror_mode": {
    "name": "ipython",
    "version": 3
   },
   "file_extension": ".py",
   "mimetype": "text/x-python",
   "name": "python",
   "nbconvert_exporter": "python",
   "pygments_lexer": "ipython3",
   "version": "3.7.6"
  }
 },
 "nbformat": 4,
 "nbformat_minor": 4
}

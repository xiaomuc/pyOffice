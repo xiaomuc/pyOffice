{
 "cells": [
  {
   "cell_type": "markdown",
   "metadata": {},
   "source": [
    "# 期限超過メールのアーカイブ\n",
    "* Outlook側に検索フォルダ作る=\"#移動対象\"\n",
    "* "
   ]
  },
  {
   "cell_type": "code",
   "execution_count": 6,
   "metadata": {},
   "outputs": [
    {
     "name": "stdout",
     "output_type": "stream",
     "text": [
      "root: Jiro.Kogi@nttdata.com\n",
      "dest 2020\n",
      "#FY2020\n"
     ]
    }
   ],
   "source": [
    "import win32com.client\n",
    "import json\n",
    "import datetime\n",
    "\n",
    "# 定義\n",
    "SRC_NAME = \"#FY2020\"\n",
    "DEST_NAME = \"2020\"\n",
    "\n",
    "# Outlook関係のオブジェクト初期化\n",
    "app = win32com.client.Dispatch(\"Outlook.Application\")\n",
    "root = app.Session.DefaultStore.GetRootFolder()\n",
    "print(\"root:\", root.name)\n",
    "stores = app.Session.Stores\n",
    "dest = None\n",
    "for store in stores:\n",
    "    folder = store.GetRootFolder()\n",
    "    if DEST_NAME in folder.name:\n",
    "        dest = folder\n",
    "print(\"dest\", dest.name)\n",
    "\n",
    "ns = app.GetNamespace(\"MAPI\")\n",
    "# messages = inbox.Items\n",
    "\n",
    "src_folder = None\n",
    "for folder in app.Session.DefaultStore.GetSearchFolders():\n",
    "    if SRC_NAME in folder.name:\n",
    "        src_folder = folder\n",
    "print(src_folder.name)"
   ]
  },
  {
   "cell_type": "code",
   "execution_count": 7,
   "metadata": {},
   "outputs": [],
   "source": [
    "def findfolder(root, name):\n",
    "    for folder in root.folders:\n",
    "        if folder.folderpath == name:\n",
    "            return folder\n",
    "        f = findfolder(folder, name)\n",
    "        if f != None:\n",
    "            return f\n",
    "    return None\n",
    "\n",
    "\n",
    "def find_sub(parent, name):\n",
    "    for folder in parent.folders:\n",
    "        if folder.name == name:\n",
    "            return folder\n",
    "    return None\n",
    "\n",
    "\n",
    "def createFolder(root, sub_name):\n",
    "    if sub_name.startswith(\"\\\\\"):\n",
    "        sub_name = sub_name[1:]\n",
    "    names = sub_name.split(\"\\\\\")\n",
    "    # print(names)\n",
    "    parent = root\n",
    "    for name in names:\n",
    "        f = find_sub(parent, name)\n",
    "        if f is None:\n",
    "            parent = parent.folders.add(name)\n",
    "        else:\n",
    "            parent = f\n",
    "    # pint(parent.folderpath)\n",
    "    return parent\n",
    "\n",
    "\n",
    "def folder_test():\n",
    "    test_sub = r\"\\#12 関西\\01 竹中\"\n",
    "    # name = dest.folderpath+\"\\#05 PMO\"\n",
    "    name = dest.folderpath + test_sub\n",
    "    f = findfolder(dest, name)\n",
    "    if f != None:\n",
    "        print(f.name)\n",
    "    else:\n",
    "        f = createFolder(dest, test_sub)\n",
    "        print(\"created\", f.folderpath)\n",
    "\n",
    "\n",
    "# folder_test()"
   ]
  },
  {
   "cell_type": "code",
   "execution_count": 8,
   "metadata": {},
   "outputs": [
    {
     "name": "stdout",
     "output_type": "stream",
     "text": [
      "159\n",
      " 158 \\#04 人事系 2021-02-12 19:52:19+00:00 【新卒採用】2022年新卒採用活動 公募一次グループディスカッション(以下GD)のご対応依頼done.（データ北海道）告について\n"
     ]
    }
   ],
   "source": [
    "def getsub(path):\n",
    "    return path.replace(root.folderpath, \"\")\n",
    "\n",
    "\n",
    "messages = src_folder.Items\n",
    "print(messages.count)\n",
    "counter = 0\n",
    "while src_folder.Items.Count > 0:\n",
    "    message = src_folder.Items.GetFirst()\n",
    "    sub = getsub(message.Parent.FolderPath)\n",
    "    f = findfolder(dest, sub)\n",
    "    if f is None:\n",
    "        f = createFolder(dest, sub)\n",
    "    message.move(f)\n",
    "    print(\"\\r\", counter, sub, message.senton, message.Subject, end=\"\")\n",
    "    counter += 1\n",
    "#    if counter>10 :\n",
    "#        break\n",
    "print(\"done.\")"
   ]
  },
  {
   "cell_type": "code",
   "execution_count": null,
   "metadata": {},
   "outputs": [],
   "source": []
  }
 ],
 "metadata": {
  "kernelspec": {
   "display_name": "Python 3",
   "language": "python",
   "name": "python3"
  },
  "language_info": {
   "codemirror_mode": {
    "name": "ipython",
    "version": 3
   },
   "file_extension": ".py",
   "mimetype": "text/x-python",
   "name": "python",
   "nbconvert_exporter": "python",
   "pygments_lexer": "ipython3",
   "version": "3.7.6"
  }
 },
 "nbformat": 4,
 "nbformat_minor": 4
}

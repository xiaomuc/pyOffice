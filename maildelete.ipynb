{
 "cells": [
  {
   "cell_type": "code",
   "execution_count": 5,
   "metadata": {},
   "outputs": [
    {
     "name": "stdout",
     "output_type": "stream",
     "text": [
      "{'subject': ['【J-Across-Flat】アラートご連絡の件', '添付ファイル削除通知', 'Virus scan was not available', '【訃報連絡】', 'みずほプロムナード', '改造CAS格安販売', 'CASカード', '有料番組が無料', 'Is this you', 'like this photo', '本物を確認したいあなた', 'コロナ自粛解除記念', '脂肪燃焼ダイエット', '大幅ディスカウント', 'なんぼコロナ', 'もうかれへん', '視聴できます', 'ビジネス提案', '取引申し込み', 'BS/CS見放題', '只今から値下げ', '情報リクエストに関する個人的な', '自粛で映画鑑賞', 'アップデート済みテレビ', 'お年玉プレゼント', '無料で家族で', '1年で約40万円', 'PayMax', 'さらに値下げ', 'ずっとタダ', '全部タダ', 'コロナ関連緊急速報', '動画パソコン教室', '重要なニュース', 'スカパー全チャンネル', '商品到着までの日時', '正規品販売はここだけ', 'カード情報更新のお知らせ', 'Special Sale Free'], 'address': ['@mil.movie', 'Microsoft@e-mail.microsoft.com', '@mail.nortonstore.jp', '.vxmail.work', '.work'], 'folder': 'trush', 'unread': True, 'priority': 0}\n"
     ]
    }
   ],
   "source": [
    "import json\n",
    "\n",
    "# JSONファイルから移動条件をロードする\n",
    "def load_json(filename=\"mail.json\"):\n",
    "    with open(\"mail.json\", \"r\", encoding=\"utf-8\") as f:\n",
    "        dic = json.load(f)\n",
    "        return dic[\"del\"]\n",
    "\n",
    "dic_del= load_json()\n",
    "print(dic_del)"
   ]
  },
  {
   "cell_type": "code",
   "execution_count": 14,
   "metadata": {},
   "outputs": [],
   "source": [
    "import win32com.client\n",
    "import re\n",
    "\n",
    "# Outlook関係のオブジェクト初期化\n",
    "app = win32com.client.Dispatch(\"Outlook.Application\")\n",
    "root = app.Session.DefaultStore.GetRootFolder()\n",
    "ns = app.GetNamespace(\"MAPI\")\n",
    "inbox = ns.GetDefaultFolder(6)\n",
    "messages = inbox.Items"
   ]
  },
  {
   "cell_type": "code",
   "execution_count": 15,
   "metadata": {},
   "outputs": [
    {
     "name": "stdout",
     "output_type": "stream",
     "text": [
      "[Notice]Virus scan was not available (ウイルス検出不能通知)\n"
     ]
    }
   ],
   "source": [
    "def is_delete(message):\n",
    "    for subject in dic_del['subject']:\n",
    "        if re.search(subject, message.subject) != None:\n",
    "            return True\n",
    "    for address in dic_del['address']:\n",
    "        if address in message.sendername:\n",
    "            return True\n",
    "        if address in message.senderemailaddress:\n",
    "            return True\n",
    "        for recip in message.recipients:\n",
    "            if address in recip.name or address in recip.address:\n",
    "                return True\n",
    "    return False\n",
    "   \n",
    "list_del = list()\n",
    "for message in messages:\n",
    "    if is_delete(message):\n",
    "        print(message.subject)\n",
    "        message.delete()"
   ]
  },
  {
   "cell_type": "code",
   "execution_count": null,
   "metadata": {},
   "outputs": [],
   "source": []
  }
 ],
 "metadata": {
  "kernelspec": {
   "display_name": "Python 3",
   "language": "python",
   "name": "python3"
  },
  "language_info": {
   "codemirror_mode": {
    "name": "ipython",
    "version": 3
   },
   "file_extension": ".py",
   "mimetype": "text/x-python",
   "name": "python",
   "nbconvert_exporter": "python",
   "pygments_lexer": "ipython3",
   "version": "3.7.6"
  }
 },
 "nbformat": 4,
 "nbformat_minor": 4
}

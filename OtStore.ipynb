{
 "cells": [
  {
   "cell_type": "code",
   "execution_count": 1,
   "metadata": {},
   "outputs": [
    {
     "name": "stdout",
     "output_type": "stream",
     "text": [
      "root Jiro.Kogi@nttdata.com\n",
      "dest Jiro.Kogi@jp.nttdata.com\n",
      "src_folder \\\\Jiro.Kogi@nttdata.com\\検索フォルダー\\#FY2020\n"
     ]
    }
   ],
   "source": [
    "import win32com.client\n",
    "import json\n",
    "import datetime\n",
    "\n",
    "# 定義\n",
    "SRC_FOLDER = \"#FY2020\"\n",
    "DEST_NAME = \"2020\"\n",
    "\n",
    "SRC_STORE = \"Jiro.Kogi@nttdata.com\"\n",
    "DEST_STORE = \"Jiro.Kogi@jp.nttdata.com\"\n",
    "\n",
    "# Outlook関係のオブジェクト初期化\n",
    "app = win32com.client.Dispatch(\"Outlook.Application\")\n",
    "root = app.Session.DefaultStore.GetRootFolder()\n",
    "stores = app.Session.Stores\n",
    "dest = None\n",
    "src = None\n",
    "for store in stores:\n",
    "    folder = store.GetRootFolder()\n",
    "    if DEST_STORE == folder.name:\n",
    "        dest = folder\n",
    "    if SRC_STORE == folder.name:\n",
    "        src = store\n",
    "\n",
    "root = src.GetRootFolder()        \n",
    "print(\"root\", src.GetRootFolder().name)\n",
    "print(\"dest\", dest.name)\n",
    "\n",
    "ns = app.GetNamespace(\"MAPI\")\n",
    "# messages = inbox.Items\n",
    "\n",
    "src_folder = None\n",
    "for folder in src.GetSearchFolders():\n",
    "    if SRC_FOLDER in folder.name:\n",
    "        src_folder = folder\n",
    "print(\"src_folder\",src_folder.folderpath)"
   ]
  },
  {
   "cell_type": "code",
   "execution_count": 31,
   "metadata": {},
   "outputs": [],
   "source": [
    "def findfolder(root, name):\n",
    "    for folder in root.folders:\n",
    "        if folder.folderpath == name:\n",
    "            return folder\n",
    "        f = findfolder(folder, name)\n",
    "        if f != None:\n",
    "            return f\n",
    "    return None\n",
    "\n",
    "\n",
    "def find_sub(parent, name):\n",
    "    for folder in parent.folders:\n",
    "        if folder.name == name:\n",
    "            return folder\n",
    "    return None\n",
    "\n",
    "\n",
    "def createFolder(root, sub_name):\n",
    "    if sub_name.startswith(\"\\\\\"):\n",
    "        sub_name = sub_name[1:]\n",
    "    names = sub_name.split(\"\\\\\")\n",
    "    # print(names)\n",
    "    parent = root\n",
    "    for name in names:\n",
    "        f = find_sub(parent, name)\n",
    "        if f is None:\n",
    "            parent = parent.folders.add(name)\n",
    "        else:\n",
    "            parent = f\n",
    "    # pint(parent.folderpath)\n",
    "    return parent\n"
   ]
  },
  {
   "cell_type": "code",
   "execution_count": 33,
   "metadata": {},
   "outputs": [
    {
     "name": "stdout",
     "output_type": "stream",
     "text": [
      "4104\n",
      " 4103 \\#40 MIST 2018-04-02 10:10:07.421000+00:00 UD/UXチーム打合せdone.第３弾と同じ店）ュールケジュールーンあり！)）金）〆）（金）〆）金）〆）部)の利用について際の運用 Health/Work status (6/2)1日(木)）(月)）\n"
     ]
    }
   ],
   "source": [
    "def getsub(path):\n",
    "    return path.replace(root.folderpath, \"\")\n",
    "\n",
    "\n",
    "messages = src_folder.Items\n",
    "print(messages.count)\n",
    "counter = 0\n",
    "while src_folder.Items.Count > 0:\n",
    "    message = src_folder.Items.GetFirst()\n",
    "    sub = getsub(message.Parent.FolderPath)\n",
    "    #print(message.Parent.FolderPath)\n",
    "    #print(sub)\n",
    "    f = findfolder(dest, sub)\n",
    "    if f is None:\n",
    "        f = createFolder(dest, sub)\n",
    "    message.move(f)\n",
    "    print(\"\\r\", counter, sub, message.senton, message.Subject, end=\"\")\n",
    "    counter += 1\n",
    "#    if counter>10 :\n",
    "#        break\n",
    "print(\"done.\")"
   ]
  },
  {
   "cell_type": "code",
   "execution_count": null,
   "metadata": {},
   "outputs": [],
   "source": []
  }
 ],
 "metadata": {
  "kernelspec": {
   "display_name": "Python 3",
   "language": "python",
   "name": "python3"
  },
  "language_info": {
   "codemirror_mode": {
    "name": "ipython",
    "version": 3
   },
   "file_extension": ".py",
   "mimetype": "text/x-python",
   "name": "python",
   "nbconvert_exporter": "python",
   "pygments_lexer": "ipython3",
   "version": "3.7.6"
  }
 },
 "nbformat": 4,
 "nbformat_minor": 4
}

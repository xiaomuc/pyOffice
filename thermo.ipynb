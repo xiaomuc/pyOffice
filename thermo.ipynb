{
 "cells": [
  {
   "cell_type": "markdown",
   "metadata": {},
   "source": [
    "# 毎日検温つけるのめんどくさい\n",
    "## のでpythonで自動化してみた\n",
    "* でも共有が外れちゃうので頓挫"
   ]
  },
  {
   "cell_type": "code",
   "execution_count": 8,
   "metadata": {},
   "outputs": [],
   "source": [
    "# ライブラリ\n",
    "import os\n",
    "import openpyxl\n",
    "import datetime\n",
    "import calendar\n",
    "import zipfile"
   ]
  },
  {
   "cell_type": "code",
   "execution_count": 22,
   "metadata": {},
   "outputs": [
    {
     "name": "stdout",
     "output_type": "stream",
     "text": [
      "today is  2020-09-07\n",
      "file: C:\\Users\\1027541\\repos\\pyOffice\\検温結果一覧.xlsx\n",
      "小木　次郎\n"
     ]
    }
   ],
   "source": [
    "# ターゲットのファイル名\n",
    "# filepath = r\"\\\\10.177.108.23\\bear2$\\公社基推PMO\\現行データ\\2020_ＰＭＯ\\00_ＰＭＯ共通\\71_【秘密】テレワーク\\テレワーク期間中の社員の健康状態の見える化\\検温結果一覧.xlsx\"\n",
    "filepath = r\"C:\\Users\\1027541\\repos\\pyOffice\\検温結果一覧.xlsx\"\n",
    "#filepath = r\"C:\\sers\\1027541\\repos\\pyOffice\\検温結果一覧.xlsx\"\n",
    "\n",
    "# 今日の日付\n",
    "theday = datetime.date.today()\n",
    "theday = datetime.date(2020,9,7)\n",
    "\n",
    "myname = '小木　次郎'\n",
    "\n",
    "print(\"today is \",theday)\n",
    "print(\"file:\",filepath)\n",
    "print(myname)"
   ]
  },
  {
   "cell_type": "code",
   "execution_count": 19,
   "metadata": {},
   "outputs": [],
   "source": [
    "month_dict = {\n",
    "    1:\"１\",2:\"２\",3:\"３\",4:\"４\",5:\"５\",6:\"６\",7:\"７\",8:\"８\",9:\"９\",10:\"１０\",11:\"１１\",12:\"１２\"\n",
    "}\n",
    "ROW_DATE = 9\n",
    "COL_NAME = 2\n",
    "\n",
    "# sheet 検索\n",
    "def find_sheet(wb):\n",
    "    for sheetname in wb.sheetnames:\n",
    "        if str(theday.month) in sheetname or month_dict[theday.month] in sheetname:\n",
    "            return wb[sheetname]\n",
    "    return None\n",
    "\n",
    "# 行(名前】検索\n",
    "def findrow(ws):\n",
    "    for row in range(ROW_DATE, ws.max_row + 1):\n",
    "        name= ws.cell(row=row, column=COL_NAME).value\n",
    "        # print(name,type(name))\n",
    "        if type(name) is str and myname in name:\n",
    "            return row\n",
    "    return 0\n",
    "\n",
    "weekdays = [\"月\", \"火\", \"水\", \"木\", \"金\", \"土\", \"日\"]\n",
    "# 列（日付）検索\n",
    "def findcolumn(ws):\n",
    "    date_str = \"{0}/{1}({2})\".format(theday.month,theday.day,weekdays[theday.weekday()])\n",
    "    print(date_str)\n",
    "    for col in range(COL_NAME+2,ws.max_column + 1):\n",
    "        dt = ws.cell(row=ROW_DATE, column=col).value\n",
    "        # print(dt,type(dt))\n",
    "        if type(dt) is str and date_str in dt:\n",
    "            return col\n",
    "    return 0\n",
    "\n",
    "def shared_pyxl_save(file_path, workbook):\n",
    "    \"\"\"\n",
    "    `file_path`: path to the shared file you want to save\n",
    "    `workbook`: the object returned by openpyxl.load_workbook()\n",
    "    \"\"\"\n",
    "    zin = zipfile.ZipFile(file_path, 'r')\n",
    "    buffers = []\n",
    "    for item in zin.infolist():\n",
    "        buffers.append((item, zin.read(item.filename)))\n",
    "    zin.close()\n",
    "\n",
    "    workbook.save(file_path)\n",
    "\n",
    "    zout = zipfile.ZipFile(file_path, 'w')\n",
    "    for item, buffer in buffers:\n",
    "        zout.writestr(item, buffer)\n",
    "    zout.close()"
   ]
  },
  {
   "cell_type": "code",
   "execution_count": 24,
   "metadata": {},
   "outputs": [
    {
     "name": "stdout",
     "output_type": "stream",
     "text": [
      "検温結果一覧表（9月分）\n",
      "9/7(月)\n",
      "22 10\n",
      "○\n"
     ]
    }
   ],
   "source": [
    "# 存在チェック\n",
    "if not os.path.exists(filepath):\n",
    "    print(\"file not exist.\")\n",
    "else:\n",
    "    wb = openpyxl.load_workbook(filepath)\n",
    "    ws = find_sheet(wb)\n",
    "    if ws is not None:\n",
    "        print(ws.title)\n",
    "        row = findrow(ws)\n",
    "        col= findcolumn(ws)\n",
    "        if row<1 or col < 1:\n",
    "            print('cell not found')\n",
    "        else:\n",
    "            print(row,col)\n",
    "            ws.cell(row=row, column=col, value=\"○\")\n",
    "            print(ws.cell(row=row,column=col).value)\n",
    "            shared_pyxl_save(filepath,wb)\n",
    "    wb.close()"
   ]
  },
  {
   "cell_type": "code",
   "execution_count": null,
   "metadata": {},
   "outputs": [],
   "source": []
  }
 ],
 "metadata": {
  "kernelspec": {
   "display_name": "Python 3",
   "language": "python",
   "name": "python3"
  },
  "language_info": {
   "codemirror_mode": {
    "name": "ipython",
    "version": 3
   },
   "file_extension": ".py",
   "mimetype": "text/x-python",
   "name": "python",
   "nbconvert_exporter": "python",
   "pygments_lexer": "ipython3",
   "version": "3.7.6"
  }
 },
 "nbformat": 4,
 "nbformat_minor": 4
}

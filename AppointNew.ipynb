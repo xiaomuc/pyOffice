{
 "cells": [
  {
   "cell_type": "code",
   "execution_count": 27,
   "metadata": {},
   "outputs": [
    {
     "name": "stdout",
     "output_type": "stream",
     "text": [
      "store: Jiro.Kogi@jp.nttdata.com\n",
      "root : Jiro.Kogi@jp.nttdata.com\n",
      "inbox: 受信トレイ\n"
     ]
    }
   ],
   "source": [
    "import win32com.client\n",
    "import json\n",
    "import datetime\n",
    "\n",
    "# 定義\n",
    "STORE_NAME = \"Jiro.Kogi@jp.nttdata.com\"\n",
    "\n",
    "# Outlook関係のオブジェクト初期化\n",
    "app = win32com.client.Dispatch(\"Outlook.Application\")\n",
    "stores = app.Session.Stores\n",
    "dest = None\n",
    "for st in stores:\n",
    "    if STORE_NAME == st.DisplayName:\n",
    "        store = st\n",
    "        break;\n",
    "# print(\"root\", root.name)\n",
    "print(\"store:\",store.DisplayName)\n",
    "\n",
    "root = store.GetRootFolder()\n",
    "inbox = store.GetDefaultFolder(6)\n",
    "print(\"root :\", root.name)\n",
    "print(\"inbox:\",inbox.name)\n",
    "\n"
   ]
  },
  {
   "cell_type": "code",
   "execution_count": 38,
   "metadata": {},
   "outputs": [
    {
     "name": "stdout",
     "output_type": "stream",
     "text": [
      "request 【お願い】推進部定例資料の意識合わせ\n",
      "request 竹中審査報告書_竹中チームレビュー\n",
      "request 【時刻延伸】Ｄ北海道（勤怠管理）Ｑ／Ａ表ＲＶ\n",
      "request 「中立電機」案件　受注審査向け事前意識合せ\n",
      "request 「中立電機」案件　受注審査結果報告書レビュー\n",
      "request 【開始時間変更】グループ会社案件担当定例MTG（地域定例）\n",
      "request グループ会社案件担当定例MTG（地域定例）\n",
      "request  Webex ミーティング招待状: 【公社】高リスク案件説明会\n",
      "request Ｄ北海道（勤怠管理）報告書ＲＶ\n",
      "request 地域案件Ｔ支援Ｇ定例(毎火15時)\n",
      "request 審査資料の事前検討会_竹中工務店案件（仮）（Q/A作成）\n",
      "cancel Canceled: 案件検討会（定期）\n",
      "Canceled: 案件検討会（定期）\n",
      "cancel Canceled: 【ND関西】関西エアポート案件　扱い相談\n",
      "Canceled: 【ND関西】関西エアポート案件　扱い相談\n",
      "request 高橋TBコメントの反映結果レビュー\n",
      "request 関西エアポート扱い検討\n",
      "request Ｄ北海道（宿題事項）打合せ\n",
      "cancel Canceled: 案件検討会（定期）\n",
      "Canceled: 案件検討会（定期）\n",
      "request 地域G内レビュー_審査報告書（竹中案件）\n",
      "request 審査資料の事前検討会_竹中工務店案件（Q/A作成）\n",
      "request Ｄ四国（兼松）、D関西（竹中）リスク審査結果のご説明\n",
      "request 地域G内レビュー_審査報告書（兼松案件、竹中案件）\n",
      "request 試験審査の審査観点および審査資料一覧検討会\n",
      "request 兼松審査報告書_四国チームレビュー\n",
      "request 竹中工務店審査後半の打合せ\n",
      "request Ｄ北海道（勤怠管理）リスク審査（計画審査）のご説明\n",
      "request 【日程変更】村山ＧＴＢ事前説明資料ＲＶ\n",
      "request 【日程変更】グループ会社案件担当定例MTG（地域定例）\n",
      "request Ｄ東北（ＹＢ）Ｑ／Ａ表ＲＶ①\n",
      "request 案件状況一覧の確認_4/20案件ミーティング向け\n",
      "request Ｄ東北（ＹＢ）設計審査・事前打合せ\n",
      "request Ｄ東北（ＹＢ）方式系の意識合せ\n",
      "request 【再】地域G内レビュー_審査報告書（竹中案件）\n",
      "request 「中立電機」案件　受注審査結果報告\n",
      "request 「中立電機」案件　受注審査結果報告資料レビュー\n",
      "request オンライン相談_青木\n",
      "request 打合せ\n",
      "request オンラインレビュー\n",
      "request Ｄ関西（竹中工務店）試験審査のご説明\n",
      "request  Webex ミーティング招待状: 【公社】高リスク案件説明会\n",
      "cancel Canceled: Ｄ東北（ＹＢ）Ｑ／Ａ表ＲＶ②\n",
      "Canceled: Ｄ東北（ＹＢ）Ｑ／Ａ表ＲＶ②\n",
      "request 面談_青木（2021/5/12(水)10:00~）\n",
      "request Ｄ東北（ＹＢ）設計審査・事後打合せ\n",
      "request PMO部課長会議\n",
      "request Ｄ東北（ＹＢ）設計審査・報告書ＲＶ\n",
      "request 村山GTBお天気報告事前相談\n",
      "request 【日程変更】Ｄ東北（ヨークベニマル）設計審査のご説明\n",
      "request 【開始時間変更】グループ会社案件担当定例MTG（地域定例）\n",
      "request 打合せ（愛媛県財務と玉井歯科商店）\n",
      "request 【竹中公務店】試験審査コメント回答意識合せ\n",
      "request Ｄ東北（青森図書館）Ｑ／Ａ表ＲＶ\n",
      "request 【D四国】玉井歯科商店案件の段取りレビュー\n",
      "request Ｄ東北（青森図書館）報告書ＲＶ（仮）\n",
      "request PMO部課長会議\n",
      "request PMO部課長会議\n",
      "cancel Canceled: 【必要に応じて】地域定例（延長戦！）\n",
      "Canceled: 【必要に応じて】地域定例（延長戦！）\n",
      "request D東北（青森図書館）リスク審査結果のご説明\n",
      "request 玉井歯科商店案件の今後の段取り打合せ\n",
      "request Ｄ四国（玉井歯科商店案件）Ｑ／Ａ表ＲＶ\n",
      "request ヨークベニマル方式基盤コメント票の意識合わせ\n"
     ]
    }
   ],
   "source": [
    "for message in inbox.Items:\n",
    "    if message.messageClass == \"IPM.Schedule.Meeting.Request\":\n",
    "        print(\"request\", message.subject)\n",
    "    elif message.messageClass == \"IPM.Schedule.Meeting.Canceled\":\n",
    "        print(\"cancel\", message.subject)\n",
    "        appoint = message.GetAssociatedAppointment(False)\n",
    "        print(appoint.subject)\n"
   ]
  },
  {
   "cell_type": "code",
   "execution_count": null,
   "metadata": {},
   "outputs": [],
   "source": []
  }
 ],
 "metadata": {
  "kernelspec": {
   "display_name": "Python 3",
   "language": "python",
   "name": "python3"
  },
  "language_info": {
   "codemirror_mode": {
    "name": "ipython",
    "version": 3
   },
   "file_extension": ".py",
   "mimetype": "text/x-python",
   "name": "python",
   "nbconvert_exporter": "python",
   "pygments_lexer": "ipython3",
   "version": "3.7.6"
  }
 },
 "nbformat": 4,
 "nbformat_minor": 4
}
